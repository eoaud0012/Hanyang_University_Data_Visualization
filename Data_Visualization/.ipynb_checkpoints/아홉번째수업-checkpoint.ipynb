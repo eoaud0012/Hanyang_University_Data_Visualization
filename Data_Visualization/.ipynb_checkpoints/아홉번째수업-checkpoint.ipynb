{
 "cells": [
  {
   "cell_type": "code",
   "execution_count": 1,
   "metadata": {},
   "outputs": [],
   "source": [
    "jsonPost={'data': [{'id': '135463543185430_1566626970069073',\n",
    " 'message': \"[청주] '어쩌다 가게 된 동네에 동네책방이 있다면?' 이라는 발상\",\n",
    " 'link': 'https://www.facebook.com/', 'type': 'photo',\n",
    "'shares': {'count': 13},\n",
    "'created_time': '2017-10-22',\n",
    "'reactions': {'data': [{'id': '1966790496932368', 'name': 'Eunsook Kim', 'type':\n",
    "'LIKE'},\n",
    " {'id': '472545799792524', 'name': 'Youngsim Jo', 'type':\n",
    "'LIKE'} ],\n",
    " 'paging': {'cursors': {'before': 'TVRBd', 'after': 'TVRBd01'},\n",
    " 'next': 'https://graph.facebook.com/v2.8/13'}},\n",
    " 'comments': {'data': [], 'summary': {'order': 'ranked', 'total_count': 51,\n",
    "'can_comment': False}}},\n",
    " {'id': '135463543185430_1564763900255380',\n",
    " 'message': \"[광주광역시] '어쩌다 ?' 이라는김영하\",\n",
    " 'link': 'https://www.facebook.com/writer=3', 'type': 'photo',\n",
    "'shares': {'count': 20},\n",
    "'created_time': '2017-10-20',\n",
    "'reactions': {'data': [{'id': '542800356072995', 'name': '안명숙', 'type': 'LIKE'},\n",
    " {'id': '1220073734790949', 'name': 'Young JI Jang', 'type':\n",
    "'LIKE'}],\n",
    " 'paging': {'cursors': {'before': 'TVRBd01'},\n",
    " ' n e x t ' :\n",
    "'https://graph.facebook.com/v2.8/13limit=25&after=TVRB'}},\n",
    " 'comments': {'data': [], 'summary': {'order': 'ranked', 'total_count': 70,\n",
    "'can_comment': False}}}],\n",
    "'paging': {'previous': 'https://graph.facebook.com/v2.8/1354635&__previous=1',\n",
    " 'next': 'https://graph.facebook.com/v2.8/13546354gZDZD'}}\n",
    "print(\"-----------------------------------------------\")\n"
   ]
  },
  {
   "cell_type": "code",
   "execution_count": 4,
   "metadata": {},
   "outputs": [
    {
     "name": "stdout",
     "output_type": "stream",
     "text": [
      "<class 'dict'>\n",
      "<class 'dict'>\n",
      "<class 'dict'>\n",
      "135463543185430_1564763900255380\n",
      "70\n",
      "<class 'dict'>\n",
      "<class 'dict'>\n",
      "135463543185430_1564763900255380\n",
      "-----------------------------------------------\n",
      "dict_keys(['order', 'total_count', 'can_comment'])\n",
      "-----------------------------------------------\n",
      "order\n",
      "total_count\n",
      "can_comment\n",
      "-----------------------------------------------\n",
      "Eunsook Kim\n",
      "Youngsim Jo\n",
      "안명숙\n",
      "Young JI Jang\n",
      "-----------------------------------------------\n"
     ]
    }
   ],
   "source": [
    "#아래두 코드의 결과를 비교해 보세요\n",
    "#코드1]\n",
    "print(type(jsonPost))\n",
    "for post in jsonPost['data']:\n",
    "    print(type(post))\n",
    "print(post['id'])\n",
    "print(post['comments']['summary']['total_count'])\n",
    "for post in jsonPost['data']:\n",
    "    print(type(post))\n",
    "print(post['id'])\n",
    "print(\"-----------------------------------------------\")\n",
    "print(post['comments']['summary'].keys())\n",
    "print(\"-----------------------------------------------\")\n",
    "for a in post['comments']['summary'].keys():\n",
    "    print(a)\n",
    "print(\"-----------------------------------------------\")\n",
    "for post2 in jsonPost['data']:\n",
    "    for post3 in post2['reactions']['data']:\n",
    "        print(post3['name'])\n",
    "print(\"-----------------------------------------------\") \n"
   ]
  },
  {
   "cell_type": "code",
   "execution_count": 5,
   "metadata": {},
   "outputs": [
    {
     "name": "stdout",
     "output_type": "stream",
     "text": [
      "<class 'list'>\n",
      "135463543185430_1566626970069073\n",
      "-----------------------------------------------\n",
      "{'order': 'ranked', 'total_count': 51, 'can_comment': False}\n",
      "51\n"
     ]
    }
   ],
   "source": [
    "#코드2]아래는12주차에서 왜 안돼는지 설명했던 내용임\n",
    "post2 = jsonPost['data']\n",
    "print(type(post2))\n",
    "#print(post2['id']) #id는 post2는 리스트이기 때문에 키값이 없다. print(post2[0])\n",
    "print(post2[0]['id'])\n",
    "print(\"-----------------------------------------------\")\n",
    "#print(post2['comments']['summary']['total_count'])#id는 post2는 리스트이기 때문에 키값이 없다. print(post2[0]['comments'])\n",
    "print(post2[0]['comments']['summary'])\n",
    "print(post2[0]['comments']['summary']['total_count'])"
   ]
  },
  {
   "cell_type": "code",
   "execution_count": null,
   "metadata": {},
   "outputs": [],
   "source": []
  }
 ],
 "metadata": {
  "kernelspec": {
   "display_name": "Python 3",
   "language": "python",
   "name": "python3"
  },
  "language_info": {
   "codemirror_mode": {
    "name": "ipython",
    "version": 3
   },
   "file_extension": ".py",
   "mimetype": "text/x-python",
   "name": "python",
   "nbconvert_exporter": "python",
   "pygments_lexer": "ipython3",
   "version": "3.7.3"
  }
 },
 "nbformat": 4,
 "nbformat_minor": 2
}
