{
 "cells": [
  {
   "cell_type": "code",
   "execution_count": 2,
   "metadata": {},
   "outputs": [],
   "source": [
    "import matplotlib.pyplot as plt"
   ]
  },
  {
   "cell_type": "code",
   "execution_count": 3,
   "metadata": {},
   "outputs": [],
   "source": [
    "from matplotlib import font_manager, rc"
   ]
  },
  {
   "cell_type": "code",
   "execution_count": 4,
   "metadata": {},
   "outputs": [],
   "source": [
    "font_location = \"c:/Windows/fonts/malgun.ttf\""
   ]
  },
  {
   "cell_type": "code",
   "execution_count": 5,
   "metadata": {},
   "outputs": [],
   "source": [
    "font_name = font_manager.FontProperties(fname=font_location).get_name()"
   ]
  },
  {
   "cell_type": "code",
   "execution_count": 6,
   "metadata": {},
   "outputs": [],
   "source": [
    "rc('font', family=font_name)"
   ]
  },
  {
   "cell_type": "code",
   "execution_count": 7,
   "metadata": {},
   "outputs": [],
   "source": [
    "import pandas as pd"
   ]
  },
  {
   "cell_type": "code",
   "execution_count": 17,
   "metadata": {},
   "outputs": [],
   "source": [
    "list_height = [10, 15, 20, 25, 30, 40, 50, 70, 90, 120, 130, 135, 140, 145, 150, 155, 160, 165, 170, 171, 172, 173, 174, 175, 176, 180]"
   ]
  },
  {
   "cell_type": "code",
   "execution_count": 20,
   "metadata": {},
   "outputs": [],
   "source": [
    "df = pd.DataFrame(list_height, index=['한 살', '두 살','세 살', '네 살', '다섯 살', '여섯 살', '일곱 살', '여덟 살', '아홉 살', '열 살', '열 한 살', '열 두 살', '열 세 살', '열 네 살', '열 다섯 살', '열 여섯 살', '열 일곱 살', '열 여덟 살', '열 아홉 살', '스무 살', '스물 한 살', '스물 두 살', '스물 세 살', '스물 네 살', '스물 다섯 살', '스물 여섯 살'], columns=['신장'])"
   ]
  },
  {
   "cell_type": "code",
   "execution_count": 21,
   "metadata": {},
   "outputs": [
    {
     "data": {
      "text/html": [
       "<div>\n",
       "<style scoped>\n",
       "    .dataframe tbody tr th:only-of-type {\n",
       "        vertical-align: middle;\n",
       "    }\n",
       "\n",
       "    .dataframe tbody tr th {\n",
       "        vertical-align: top;\n",
       "    }\n",
       "\n",
       "    .dataframe thead th {\n",
       "        text-align: right;\n",
       "    }\n",
       "</style>\n",
       "<table border=\"1\" class=\"dataframe\">\n",
       "  <thead>\n",
       "    <tr style=\"text-align: right;\">\n",
       "      <th></th>\n",
       "      <th>신장</th>\n",
       "    </tr>\n",
       "  </thead>\n",
       "  <tbody>\n",
       "    <tr>\n",
       "      <th>한 살</th>\n",
       "      <td>10</td>\n",
       "    </tr>\n",
       "    <tr>\n",
       "      <th>두 살</th>\n",
       "      <td>15</td>\n",
       "    </tr>\n",
       "    <tr>\n",
       "      <th>세 살</th>\n",
       "      <td>20</td>\n",
       "    </tr>\n",
       "    <tr>\n",
       "      <th>네 살</th>\n",
       "      <td>25</td>\n",
       "    </tr>\n",
       "    <tr>\n",
       "      <th>다섯 살</th>\n",
       "      <td>30</td>\n",
       "    </tr>\n",
       "    <tr>\n",
       "      <th>여섯 살</th>\n",
       "      <td>40</td>\n",
       "    </tr>\n",
       "    <tr>\n",
       "      <th>일곱 살</th>\n",
       "      <td>50</td>\n",
       "    </tr>\n",
       "    <tr>\n",
       "      <th>여덟 살</th>\n",
       "      <td>70</td>\n",
       "    </tr>\n",
       "    <tr>\n",
       "      <th>아홉 살</th>\n",
       "      <td>90</td>\n",
       "    </tr>\n",
       "    <tr>\n",
       "      <th>열 살</th>\n",
       "      <td>120</td>\n",
       "    </tr>\n",
       "    <tr>\n",
       "      <th>열 한 살</th>\n",
       "      <td>130</td>\n",
       "    </tr>\n",
       "    <tr>\n",
       "      <th>열 두 살</th>\n",
       "      <td>135</td>\n",
       "    </tr>\n",
       "    <tr>\n",
       "      <th>열 세 살</th>\n",
       "      <td>140</td>\n",
       "    </tr>\n",
       "    <tr>\n",
       "      <th>열 네 살</th>\n",
       "      <td>145</td>\n",
       "    </tr>\n",
       "    <tr>\n",
       "      <th>열 다섯 살</th>\n",
       "      <td>150</td>\n",
       "    </tr>\n",
       "    <tr>\n",
       "      <th>열 여섯 살</th>\n",
       "      <td>155</td>\n",
       "    </tr>\n",
       "    <tr>\n",
       "      <th>열 일곱 살</th>\n",
       "      <td>160</td>\n",
       "    </tr>\n",
       "    <tr>\n",
       "      <th>열 여덟 살</th>\n",
       "      <td>165</td>\n",
       "    </tr>\n",
       "    <tr>\n",
       "      <th>열 아홉 살</th>\n",
       "      <td>170</td>\n",
       "    </tr>\n",
       "    <tr>\n",
       "      <th>스무 살</th>\n",
       "      <td>171</td>\n",
       "    </tr>\n",
       "    <tr>\n",
       "      <th>스물 한 살</th>\n",
       "      <td>172</td>\n",
       "    </tr>\n",
       "    <tr>\n",
       "      <th>스물 두 살</th>\n",
       "      <td>173</td>\n",
       "    </tr>\n",
       "    <tr>\n",
       "      <th>스물 세 살</th>\n",
       "      <td>174</td>\n",
       "    </tr>\n",
       "    <tr>\n",
       "      <th>스물 네 살</th>\n",
       "      <td>175</td>\n",
       "    </tr>\n",
       "    <tr>\n",
       "      <th>스물 다섯 살</th>\n",
       "      <td>176</td>\n",
       "    </tr>\n",
       "    <tr>\n",
       "      <th>스물 여섯 살</th>\n",
       "      <td>180</td>\n",
       "    </tr>\n",
       "  </tbody>\n",
       "</table>\n",
       "</div>"
      ],
      "text/plain": [
       "          신장\n",
       "한 살       10\n",
       "두 살       15\n",
       "세 살       20\n",
       "네 살       25\n",
       "다섯 살      30\n",
       "여섯 살      40\n",
       "일곱 살      50\n",
       "여덟 살      70\n",
       "아홉 살      90\n",
       "열 살      120\n",
       "열 한 살    130\n",
       "열 두 살    135\n",
       "열 세 살    140\n",
       "열 네 살    145\n",
       "열 다섯 살   150\n",
       "열 여섯 살   155\n",
       "열 일곱 살   160\n",
       "열 여덟 살   165\n",
       "열 아홉 살   170\n",
       "스무 살     171\n",
       "스물 한 살   172\n",
       "스물 두 살   173\n",
       "스물 세 살   174\n",
       "스물 네 살   175\n",
       "스물 다섯 살  176\n",
       "스물 여섯 살  180"
      ]
     },
     "execution_count": 21,
     "metadata": {},
     "output_type": "execute_result"
    }
   ],
   "source": [
    "df"
   ]
  },
  {
   "cell_type": "code",
   "execution_count": 22,
   "metadata": {},
   "outputs": [
    {
     "data": {
      "text/plain": [
       "<matplotlib.axes._subplots.AxesSubplot at 0x1de229ab518>"
      ]
     },
     "execution_count": 22,
     "metadata": {},
     "output_type": "execute_result"
    },
    {
     "data": {
      "image/png": "[encoded data removed]",
      "text/plain": [
       "<Figure size 432x288 with 1 Axes>"
      ]
     },
     "metadata": {
      "needs_background": "light"
     },
     "output_type": "display_data"
    }
   ],
   "source": [
    "df.plot(kind='bar')"
   ]
  },
  {
   "cell_type": "code",
   "execution_count": 23,
   "metadata": {},
   "outputs": [
    {
     "data": {
      "text/plain": [
       "<matplotlib.axes._subplots.AxesSubplot at 0x1de22a65898>"
      ]
     },
     "execution_count": 23,
     "metadata": {},
     "output_type": "execute_result"
    },
    {
     "data": {
      "image/png": "[encoded data removed]",
      "text/plain": [
       "<Figure size 432x288 with 1 Axes>"
      ]
     },
     "metadata": {
      "needs_background": "light"
     },
     "output_type": "display_data"
    }
   ],
   "source": [
    "df.plot()"
   ]
  },
  {
   "cell_type": "code",
   "execution_count": 27,
   "metadata": {},
   "outputs": [],
   "source": [
    "list_weight = [2, 3, 4, 5, 6, 8, 10, 13, 20, 30, 40, 50, 60, 62, 64, 66, 68, 70, 72, 73, 74, 75, 77, 78, 79, 80]"
   ]
  },
  {
   "cell_type": "code",
   "execution_count": 32,
   "metadata": {},
   "outputs": [],
   "source": [
    "list_eyesight = [0.6, 0.7, 0.8, 1.4, 1.5, 1.6, 1.7, 1.8, 1.9, 2.0, 1.9, 1.8, 1.7, 1.6, 1.5, 1.4, 1.3, 1.2, 1.1, 1.0, 0.9, 0.8, 0.7, 0.3, 0.2, 0.1]"
   ]
  },
  {
   "cell_type": "code",
   "execution_count": 33,
   "metadata": {},
   "outputs": [],
   "source": [
    "data = { \"신장\" : list_height,\n",
    "          \"몸무게\" : list_weight,\n",
    "           \"시력\" : list_eyesight }"
   ]
  },
  {
   "cell_type": "code",
   "execution_count": 34,
   "metadata": {},
   "outputs": [],
   "source": [
    "df2 = pd.DataFrame(data, columns = [\"신장\", \"몸무게\", \"시력\"],\n",
    "                         index=['한 살', '두 살','세 살', '네 살', '다섯 살', '여섯 살', '일곱 살', '여덟 살', '아홉 살', '열 살', '열 한 살', '열 두 살', '열 세 살', '열 네 살', '열 다섯 살', '열 여섯 살', '열 일곱 살', '열 여덟 살', '열 아홉 살', '스무 살', '스물 한 살', '스물 두 살', '스물 세 살', '스물 네 살', '스물 다섯 살', '스물 여섯 살'])"
   ]
  },
  {
   "cell_type": "code",
   "execution_count": 35,
   "metadata": {},
   "outputs": [
    {
     "data": {
      "text/html": [
       "<div>\n",
       "<style scoped>\n",
       "    .dataframe tbody tr th:only-of-type {\n",
       "        vertical-align: middle;\n",
       "    }\n",
       "\n",
       "    .dataframe tbody tr th {\n",
       "        vertical-align: top;\n",
       "    }\n",
       "\n",
       "    .dataframe thead th {\n",
       "        text-align: right;\n",
       "    }\n",
       "</style>\n",
       "<table border=\"1\" class=\"dataframe\">\n",
       "  <thead>\n",
       "    <tr style=\"text-align: right;\">\n",
       "      <th></th>\n",
       "      <th>신장</th>\n",
       "      <th>몸무게</th>\n",
       "      <th>시력</th>\n",
       "    </tr>\n",
       "  </thead>\n",
       "  <tbody>\n",
       "    <tr>\n",
       "      <th>한 살</th>\n",
       "      <td>10</td>\n",
       "      <td>2</td>\n",
       "      <td>0.6</td>\n",
       "    </tr>\n",
       "    <tr>\n",
       "      <th>두 살</th>\n",
       "      <td>15</td>\n",
       "      <td>3</td>\n",
       "      <td>0.7</td>\n",
       "    </tr>\n",
       "    <tr>\n",
       "      <th>세 살</th>\n",
       "      <td>20</td>\n",
       "      <td>4</td>\n",
       "      <td>0.8</td>\n",
       "    </tr>\n",
       "    <tr>\n",
       "      <th>네 살</th>\n",
       "      <td>25</td>\n",
       "      <td>5</td>\n",
       "      <td>1.4</td>\n",
       "    </tr>\n",
       "    <tr>\n",
       "      <th>다섯 살</th>\n",
       "      <td>30</td>\n",
       "      <td>6</td>\n",
       "      <td>1.5</td>\n",
       "    </tr>\n",
       "    <tr>\n",
       "      <th>여섯 살</th>\n",
       "      <td>40</td>\n",
       "      <td>8</td>\n",
       "      <td>1.6</td>\n",
       "    </tr>\n",
       "    <tr>\n",
       "      <th>일곱 살</th>\n",
       "      <td>50</td>\n",
       "      <td>10</td>\n",
       "      <td>1.7</td>\n",
       "    </tr>\n",
       "    <tr>\n",
       "      <th>여덟 살</th>\n",
       "      <td>70</td>\n",
       "      <td>13</td>\n",
       "      <td>1.8</td>\n",
       "    </tr>\n",
       "    <tr>\n",
       "      <th>아홉 살</th>\n",
       "      <td>90</td>\n",
       "      <td>20</td>\n",
       "      <td>1.9</td>\n",
       "    </tr>\n",
       "    <tr>\n",
       "      <th>열 살</th>\n",
       "      <td>120</td>\n",
       "      <td>30</td>\n",
       "      <td>2.0</td>\n",
       "    </tr>\n",
       "    <tr>\n",
       "      <th>열 한 살</th>\n",
       "      <td>130</td>\n",
       "      <td>40</td>\n",
       "      <td>1.9</td>\n",
       "    </tr>\n",
       "    <tr>\n",
       "      <th>열 두 살</th>\n",
       "      <td>135</td>\n",
       "      <td>50</td>\n",
       "      <td>1.8</td>\n",
       "    </tr>\n",
       "    <tr>\n",
       "      <th>열 세 살</th>\n",
       "      <td>140</td>\n",
       "      <td>60</td>\n",
       "      <td>1.7</td>\n",
       "    </tr>\n",
       "    <tr>\n",
       "      <th>열 네 살</th>\n",
       "      <td>145</td>\n",
       "      <td>62</td>\n",
       "      <td>1.6</td>\n",
       "    </tr>\n",
       "    <tr>\n",
       "      <th>열 다섯 살</th>\n",
       "      <td>150</td>\n",
       "      <td>64</td>\n",
       "      <td>1.5</td>\n",
       "    </tr>\n",
       "    <tr>\n",
       "      <th>열 여섯 살</th>\n",
       "      <td>155</td>\n",
       "      <td>66</td>\n",
       "      <td>1.4</td>\n",
       "    </tr>\n",
       "    <tr>\n",
       "      <th>열 일곱 살</th>\n",
       "      <td>160</td>\n",
       "      <td>68</td>\n",
       "      <td>1.3</td>\n",
       "    </tr>\n",
       "    <tr>\n",
       "      <th>열 여덟 살</th>\n",
       "      <td>165</td>\n",
       "      <td>70</td>\n",
       "      <td>1.2</td>\n",
       "    </tr>\n",
       "    <tr>\n",
       "      <th>열 아홉 살</th>\n",
       "      <td>170</td>\n",
       "      <td>72</td>\n",
       "      <td>1.1</td>\n",
       "    </tr>\n",
       "    <tr>\n",
       "      <th>스무 살</th>\n",
       "      <td>171</td>\n",
       "      <td>73</td>\n",
       "      <td>1.0</td>\n",
       "    </tr>\n",
       "    <tr>\n",
       "      <th>스물 한 살</th>\n",
       "      <td>172</td>\n",
       "      <td>74</td>\n",
       "      <td>0.9</td>\n",
       "    </tr>\n",
       "    <tr>\n",
       "      <th>스물 두 살</th>\n",
       "      <td>173</td>\n",
       "      <td>75</td>\n",
       "      <td>0.8</td>\n",
       "    </tr>\n",
       "    <tr>\n",
       "      <th>스물 세 살</th>\n",
       "      <td>174</td>\n",
       "      <td>77</td>\n",
       "      <td>0.7</td>\n",
       "    </tr>\n",
       "    <tr>\n",
       "      <th>스물 네 살</th>\n",
       "      <td>175</td>\n",
       "      <td>78</td>\n",
       "      <td>0.3</td>\n",
       "    </tr>\n",
       "    <tr>\n",
       "      <th>스물 다섯 살</th>\n",
       "      <td>176</td>\n",
       "      <td>79</td>\n",
       "      <td>0.2</td>\n",
       "    </tr>\n",
       "    <tr>\n",
       "      <th>스물 여섯 살</th>\n",
       "      <td>180</td>\n",
       "      <td>80</td>\n",
       "      <td>0.1</td>\n",
       "    </tr>\n",
       "  </tbody>\n",
       "</table>\n",
       "</div>"
      ],
      "text/plain": [
       "          신장  몸무게   시력\n",
       "한 살       10    2  0.6\n",
       "두 살       15    3  0.7\n",
       "세 살       20    4  0.8\n",
       "네 살       25    5  1.4\n",
       "다섯 살      30    6  1.5\n",
       "여섯 살      40    8  1.6\n",
       "일곱 살      50   10  1.7\n",
       "여덟 살      70   13  1.8\n",
       "아홉 살      90   20  1.9\n",
       "열 살      120   30  2.0\n",
       "열 한 살    130   40  1.9\n",
       "열 두 살    135   50  1.8\n",
       "열 세 살    140   60  1.7\n",
       "열 네 살    145   62  1.6\n",
       "열 다섯 살   150   64  1.5\n",
       "열 여섯 살   155   66  1.4\n",
       "열 일곱 살   160   68  1.3\n",
       "열 여덟 살   165   70  1.2\n",
       "열 아홉 살   170   72  1.1\n",
       "스무 살     171   73  1.0\n",
       "스물 한 살   172   74  0.9\n",
       "스물 두 살   173   75  0.8\n",
       "스물 세 살   174   77  0.7\n",
       "스물 네 살   175   78  0.3\n",
       "스물 다섯 살  176   79  0.2\n",
       "스물 여섯 살  180   80  0.1"
      ]
     },
     "execution_count": 35,
     "metadata": {},
     "output_type": "execute_result"
    }
   ],
   "source": [
    "df2"
   ]
  },
  {
   "cell_type": "code",
   "execution_count": 36,
   "metadata": {},
   "outputs": [
    {
     "data": {
      "text/plain": [
       "<matplotlib.axes._subplots.AxesSubplot at 0x1de22ac2470>"
      ]
     },
     "execution_count": 36,
     "metadata": {},
     "output_type": "execute_result"
    },
    {
     "data": {
      "image/png": "[encoded data removed]",
      "text/plain": [
       "<Figure size 432x288 with 1 Axes>"
      ]
     },
     "metadata": {
      "needs_background": "light"
     },
     "output_type": "display_data"
    }
   ],
   "source": [
    "df2.plot()"
   ]
  },
  {
   "cell_type": "code",
   "execution_count": 43,
   "metadata": {},
   "outputs": [
    {
     "data": {
      "text/plain": [
       "<matplotlib.axes._subplots.AxesSubplot at 0x1de23c3fb00>"
      ]
     },
     "execution_count": 43,
     "metadata": {},
     "output_type": "execute_result"
    },
    {
     "data": {
      "image/png": "[encoded data removed]",
      "text/plain": [
       "<Figure size 432x288 with 1 Axes>"
      ]
     },
     "metadata": {
      "needs_background": "light"
     },
     "output_type": "display_data"
    }
   ],
   "source": [
    "df2.plot.bar()"
   ]
  },
  {
   "cell_type": "code",
   "execution_count": null,
   "metadata": {},
   "outputs": [],
   "source": []
  },
  {
   "cell_type": "code",
   "execution_count": null,
   "metadata": {},
   "outputs": [],
   "source": []
  }
 ],
 "metadata": {
  "kernelspec": {
   "display_name": "Python 3",
   "language": "python",
   "name": "python3"
  },
  "language_info": {
   "codemirror_mode": {
    "name": "ipython",
    "version": 3
   },
   "file_extension": ".py",
   "mimetype": "text/x-python",
   "name": "python",
   "nbconvert_exporter": "python",
   "pygments_lexer": "ipython3",
   "version": "3.7.3"
  }
 },
 "nbformat": 4,
 "nbformat_minor": 2
}
