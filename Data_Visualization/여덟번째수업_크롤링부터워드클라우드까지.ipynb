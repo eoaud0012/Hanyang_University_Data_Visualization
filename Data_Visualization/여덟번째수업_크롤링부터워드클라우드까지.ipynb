{
 "cells": [
  {
   "cell_type": "code",
   "execution_count": 2,
   "metadata": {},
   "outputs": [
    {
     "name": "stdout",
     "output_type": "stream",
     "text": [
      "빨강:1\n",
      "주황:1\n",
      "노랑:1\n",
      "초록:1\n",
      "파랑:1\n",
      "보라:1\n"
     ]
    },
    {
     "data": {
      "image/png": "[encoded data removed]",
      "text/plain": [
       "<Figure size 432x288 with 1 Axes>"
      ]
     },
     "metadata": {
      "needs_background": "light"
     },
     "output_type": "display_data"
    },
    {
     "data": {
      "image/png": "[encoded data removed]",
      "text/plain": [
       "<Figure size 432x288 with 1 Axes>"
      ]
     },
     "metadata": {
      "needs_background": "light"
     },
     "output_type": "display_data"
    }
   ],
   "source": [
    "#! /usr/bin/python3.4 # -*- coding: utf-8 -*\n",
    "from collections import Counter\n",
    "import random \n",
    "import webbrowser \n",
    "from konlpy.tag import Twitter \n",
    "import pytagcloud # requires Korean font support \n",
    "import pandas as pd \n",
    "import matplotlib.pyplot as plt \n",
    "from matplotlib import font_manager, rc\n",
    "bill_num = 'color'#파일명영어로\n",
    "fname='%s.txt'%bill_num\n",
    "filename=bill_num+'6.jpg'\n",
    "with open(fname, \"r\", encoding=\"utf-8\") as fobj:#텍스트파일읽어오기   \n",
    "    text=fobj.read()         \n",
    "h = Twitter() \n",
    "nouns = h.nouns(text) \n",
    "count = Counter(nouns)\n",
    "wordInfo={}\n",
    "for tags, counts in count.most_common(50):  \n",
    "    if(len(str(tags))>1):      \n",
    "        wordInfo[tags]=counts      \n",
    "        print(\"%s:%d\"%(tags, counts))\n",
    "font_location='c:/windows/fonts/malgun.ttf'\n",
    "font_name=font_manager.FontProperties(fname=font_location).get_name()\n",
    "rc('font', family=font_name) \n",
    "dfdata=pd.DataFrame(wordInfo, index=[0]) \n",
    "dfdata.plot(kind='bar') \n",
    "plt.xlabel('주요 단어')\n",
    "plt.ylabel('빈도수') \n",
    "plt.show() \n",
    "wordInfo2={'빈도수':wordInfo}\n",
    "dfdata2=pd.DataFrame(wordInfo2) \n",
    "dfdata2.plot(kind='bar')\n",
    "plt.xlabel('주요 단어') \n",
    "plt.ylabel('빈도수')\n",
    "plt.show() \n",
    "taglist=pytagcloud.make_tags(dict(wordInfo).items(), maxsize=80)\n",
    "pytagcloud.create_tag_image(taglist, filename, fontname='korean', size=(640, 480), rectangular=True) #webbrowser.open(filename)"
   ]
  },
  {
   "cell_type": "code",
   "execution_count": 3,
   "metadata": {},
   "outputs": [],
   "source": [
    "import urllib.request"
   ]
  },
  {
   "cell_type": "code",
   "execution_count": 4,
   "metadata": {},
   "outputs": [],
   "source": [
    "import bs4"
   ]
  },
  {
   "cell_type": "code",
   "execution_count": 5,
   "metadata": {},
   "outputs": [],
   "source": [
    "urlobj = urllib.request.urlopen(\"https://movie.naver.com/movie/sdb/rank/rmovie.nhn\")"
   ]
  },
  {
   "cell_type": "code",
   "execution_count": 6,
   "metadata": {},
   "outputs": [],
   "source": [
    "bsobj = bs4.BeautifulSoup(urlobj, \"html.parser\")"
   ]
  },
  {
   "cell_type": "code",
   "execution_count": 7,
   "metadata": {},
   "outputs": [],
   "source": [
    "va = bsobj.findAll(\"div\",{\"class\":\"tit3\"})"
   ]
  },
  {
   "cell_type": "code",
   "execution_count": 8,
   "metadata": {},
   "outputs": [
    {
     "data": {
      "text/plain": [
       "[<div class=\"tit3\">\n",
       " <a href=\"/movie/bi/mi/basic.nhn?code=136873\" title=\"겨울왕국 2\">겨울왕국 2</a>\n",
       " </div>, <div class=\"tit3\">\n",
       " <a href=\"/movie/bi/mi/basic.nhn?code=175324\" title=\"나를 찾아줘\">나를 찾아줘</a>\n",
       " </div>, <div class=\"tit3\">\n",
       " <a href=\"/movie/bi/mi/basic.nhn?code=189053\" title=\"블랙머니\">블랙머니</a>\n",
       " </div>, <div class=\"tit3\">\n",
       " <a href=\"/movie/bi/mi/basic.nhn?code=179159\" title=\"신의 한 수: 귀수편\">신의 한 수: 귀수편</a>\n",
       " </div>, <div class=\"tit3\">\n",
       " <a href=\"/movie/bi/mi/basic.nhn?code=183803\" title=\"크롤\">크롤</a>\n",
       " </div>, <div class=\"tit3\">\n",
       " <a href=\"/movie/bi/mi/basic.nhn?code=154298\" title=\"아이리시맨\">아이리시맨</a>\n",
       " </div>, <div class=\"tit3\">\n",
       " <a href=\"/movie/bi/mi/basic.nhn?code=179482\" title=\"82년생 김지영\">82년생 김지영</a>\n",
       " </div>, <div class=\"tit3\">\n",
       " <a href=\"/movie/bi/mi/basic.nhn?code=188473\" title=\"허슬러\">허슬러</a>\n",
       " </div>, <div class=\"tit3\">\n",
       " <a href=\"/movie/bi/mi/basic.nhn?code=167422\" title=\"얼굴없는 보스\">얼굴없는 보스</a>\n",
       " </div>, <div class=\"tit3\">\n",
       " <a href=\"/movie/bi/mi/basic.nhn?code=182387\" title=\"윤희에게\">윤희에게</a>\n",
       " </div>, <div class=\"tit3\">\n",
       " <a href=\"/movie/bi/mi/basic.nhn?code=167605\" title=\"터미네이터: 다크 페이트\">터미네이터: 다크 페이트</a>\n",
       " </div>, <div class=\"tit3\">\n",
       " <a href=\"/movie/bi/mi/basic.nhn?code=163831\" title=\"엔젤 해즈 폴른\">엔젤 해즈 폴른</a>\n",
       " </div>, <div class=\"tit3\">\n",
       " <a href=\"/movie/bi/mi/basic.nhn?code=187940\" title=\"백두산\">백두산</a>\n",
       " </div>, <div class=\"tit3\">\n",
       " <a href=\"/movie/bi/mi/basic.nhn?code=189071\" title=\"대통령의 7시간\">대통령의 7시간</a>\n",
       " </div>, <div class=\"tit3\">\n",
       " <a href=\"/movie/bi/mi/basic.nhn?code=183876\" title=\"시동\">시동</a>\n",
       " </div>, <div class=\"tit3\">\n",
       " <a href=\"/movie/bi/mi/basic.nhn?code=181584\" title=\"아내를 죽였다\">아내를 죽였다</a>\n",
       " </div>, <div class=\"tit3\">\n",
       " <a href=\"/movie/bi/mi/basic.nhn?code=190244\" title=\"러브 앳\">러브 앳</a>\n",
       " </div>, <div class=\"tit3\">\n",
       " <a href=\"/movie/bi/mi/basic.nhn?code=188056\" title=\"결혼 이야기\">결혼 이야기</a>\n",
       " </div>, <div class=\"tit3\">\n",
       " <a href=\"/movie/bi/mi/basic.nhn?code=172836\" title=\"원스 어폰 어 타임... 인 할리우드\">원스 어폰 어 타임... 인 할리우드</a>\n",
       " </div>, <div class=\"tit3\">\n",
       " <a href=\"/movie/bi/mi/basic.nhn?code=181114\" title=\"날씨의 아이\">날씨의 아이</a>\n",
       " </div>, <div class=\"tit3\">\n",
       " <a href=\"/movie/bi/mi/basic.nhn?code=179302\" title=\"카센타\">카센타</a>\n",
       " </div>, <div class=\"tit3\">\n",
       " <a href=\"/movie/bi/mi/basic.nhn?code=129282\" title=\"람보 : 라스트 워\">람보 : 라스트 워</a>\n",
       " </div>, <div class=\"tit3\">\n",
       " <a href=\"/movie/bi/mi/basic.nhn?code=186610\" title=\"신문기자\">신문기자</a>\n",
       " </div>, <div class=\"tit3\">\n",
       " <a href=\"/movie/bi/mi/basic.nhn?code=167613\" title=\"조커\">조커</a>\n",
       " </div>, <div class=\"tit3\">\n",
       " <a href=\"/movie/bi/mi/basic.nhn?code=146433\" title=\"오피셜 시크릿\">오피셜 시크릿</a>\n",
       " </div>, <div class=\"tit3\">\n",
       " <a href=\"/movie/bi/mi/basic.nhn?code=179307\" title=\"벌새\">벌새</a>\n",
       " </div>, <div class=\"tit3\">\n",
       " <a href=\"/movie/bi/mi/basic.nhn?code=189259\" title=\"첫잔처럼\">첫잔처럼</a>\n",
       " </div>, <div class=\"tit3\">\n",
       " <a href=\"/movie/bi/mi/basic.nhn?code=181710\" title=\"포드 V 페라리\">포드 V 페라리</a>\n",
       " </div>, <div class=\"tit3\">\n",
       " <a href=\"/movie/bi/mi/basic.nhn?code=74407\" title=\"좀비랜드: 더블 탭\">좀비랜드: 더블 탭</a>\n",
       " </div>, <div class=\"tit3\">\n",
       " <a href=\"/movie/bi/mi/basic.nhn?code=189260\" title=\"라스트 크리스마스\">라스트 크리스마스</a>\n",
       " </div>, <div class=\"tit3\">\n",
       " <a href=\"/movie/bi/mi/basic.nhn?code=172764\" title=\"제미니 맨\">제미니 맨</a>\n",
       " </div>, <div class=\"tit3\">\n",
       " <a href=\"/movie/bi/mi/basic.nhn?code=189054\" title=\"헤로니모\">헤로니모</a>\n",
       " </div>, <div class=\"tit3\">\n",
       " <a href=\"/movie/bi/mi/basic.nhn?code=171752\" title=\"감쪽같은 그녀\">감쪽같은 그녀</a>\n",
       " </div>, <div class=\"tit3\">\n",
       " <a href=\"/movie/bi/mi/basic.nhn?code=100931\" title=\"겨울왕국\">겨울왕국</a>\n",
       " </div>, <div class=\"tit3\">\n",
       " <a href=\"/movie/bi/mi/basic.nhn?code=182205\" title=\"가장 보통의 연애\">가장 보통의 연애</a>\n",
       " </div>, <div class=\"tit3\">\n",
       " <a href=\"/movie/bi/mi/basic.nhn?code=189000\" title=\"나이브스 아웃\">나이브스 아웃</a>\n",
       " </div>, <div class=\"tit3\">\n",
       " <a href=\"/movie/bi/mi/basic.nhn?code=173842\" title=\"어제 일은 모두 괜찮아\">어제 일은 모두 괜찮아</a>\n",
       " </div>, <div class=\"tit3\">\n",
       " <a href=\"/movie/bi/mi/basic.nhn?code=161967\" title=\"기생충\">기생충</a>\n",
       " </div>, <div class=\"tit3\">\n",
       " <a href=\"/movie/bi/mi/basic.nhn?code=173906\" title=\"삼촌\">삼촌</a>\n",
       " </div>, <div class=\"tit3\">\n",
       " <a href=\"/movie/bi/mi/basic.nhn?code=181381\" title=\"천문: 하늘에 묻는다\">천문: 하늘에 묻는다</a>\n",
       " </div>, <div class=\"tit3\">\n",
       " <a href=\"/movie/bi/mi/basic.nhn?code=183660\" title=\"너의 여자친구\">너의 여자친구</a>\n",
       " </div>, <div class=\"tit3\">\n",
       " <a href=\"/movie/bi/mi/basic.nhn?code=187232\" title=\"레디 오어 낫\">레디 오어 낫</a>\n",
       " </div>, <div class=\"tit3\">\n",
       " <a href=\"/movie/bi/mi/basic.nhn?code=173260\" title=\"위!\">위!</a>\n",
       " </div>, <div class=\"tit3\">\n",
       " <a href=\"/movie/bi/mi/basic.nhn?code=144183\" title=\"28세 미성년\">28세 미성년</a>\n",
       " </div>, <div class=\"tit3\">\n",
       " <a href=\"/movie/bi/mi/basic.nhn?code=189068\" title=\"행동하는 양심 김대중\">행동하는 양심 김대중</a>\n",
       " </div>, <div class=\"tit3\">\n",
       " <a href=\"/movie/bi/mi/basic.nhn?code=187349\" title=\"쥬만지: 넥스트 레벨\">쥬만지: 넥스트 레벨</a>\n",
       " </div>, <div class=\"tit3\">\n",
       " <a href=\"/movie/bi/mi/basic.nhn?code=180390\" title=\"퍼펙트맨\">퍼펙트맨</a>\n",
       " </div>, <div class=\"tit3\">\n",
       " <a href=\"/movie/bi/mi/basic.nhn?code=146068\" title=\"어메이징 그레이스\">어메이징 그레이스</a>\n",
       " </div>, <div class=\"tit3\">\n",
       " <a href=\"/movie/bi/mi/basic.nhn?code=185134\" title=\"삽질\">삽질</a>\n",
       " </div>, <div class=\"tit3\">\n",
       " <a href=\"/movie/bi/mi/basic.nhn?code=189630\" title=\"집 이야기\">집 이야기</a>\n",
       " </div>]"
      ]
     },
     "execution_count": 8,
     "metadata": {},
     "output_type": "execute_result"
    }
   ],
   "source": [
    "va"
   ]
  },
  {
   "cell_type": "code",
   "execution_count": 9,
   "metadata": {},
   "outputs": [],
   "source": [
    "vd = []"
   ]
  },
  {
   "cell_type": "code",
   "execution_count": 10,
   "metadata": {},
   "outputs": [
    {
     "data": {
      "text/plain": [
       "'겨울왕국 2'"
      ]
     },
     "execution_count": 10,
     "metadata": {},
     "output_type": "execute_result"
    }
   ],
   "source": [
    "va[0].find('a')[\"title\"]"
   ]
  },
  {
   "cell_type": "code",
   "execution_count": 11,
   "metadata": {},
   "outputs": [
    {
     "data": {
      "text/plain": [
       "str"
      ]
     },
     "execution_count": 11,
     "metadata": {},
     "output_type": "execute_result"
    }
   ],
   "source": [
    "type(va[0].find('a')[\"title\"])"
   ]
  },
  {
   "cell_type": "code",
   "execution_count": 78,
   "metadata": {},
   "outputs": [
    {
     "name": "stdout",
     "output_type": "stream",
     "text": [
      "겨울왕국 2\n",
      "나를 찾아줘\n",
      "블랙머니\n",
      "신의 한 수: 귀수편\n",
      "크롤\n",
      "아이리시맨\n",
      "82년생 김지영\n",
      "허슬러\n",
      "얼굴없는 보스\n",
      "윤희에게\n",
      "터미네이터: 다크 페이트\n",
      "엔젤 해즈 폴른\n",
      "백두산\n",
      "대통령의 7시간\n",
      "시동\n",
      "아내를 죽였다\n",
      "러브 앳\n",
      "결혼 이야기\n",
      "원스 어폰 어 타임... 인 할리우드\n",
      "날씨의 아이\n",
      "카센타\n",
      "람보 : 라스트 워\n",
      "신문기자\n",
      "조커\n",
      "오피셜 시크릿\n",
      "벌새\n",
      "첫잔처럼\n",
      "포드 V 페라리\n",
      "좀비랜드: 더블 탭\n",
      "라스트 크리스마스\n",
      "제미니 맨\n",
      "헤로니모\n",
      "감쪽같은 그녀\n",
      "겨울왕국\n",
      "가장 보통의 연애\n",
      "나이브스 아웃\n",
      "어제 일은 모두 괜찮아\n",
      "기생충\n",
      "삼촌\n",
      "천문: 하늘에 묻는다\n",
      "너의 여자친구\n",
      "레디 오어 낫\n",
      "위!\n",
      "28세 미성년\n",
      "행동하는 양심 김대중\n",
      "쥬만지: 넥스트 레벨\n",
      "퍼펙트맨\n",
      "어메이징 그레이스\n",
      "삽질\n",
      "집 이야기\n"
     ]
    }
   ],
   "source": [
    "for i in range(0, len(va), 1):\n",
    "    print(va[i].find('a')[\"title\"])\n",
    "    vb = (va[i].find('a')[\"title\"])\n",
    "    vd.append(vb)"
   ]
  },
  {
   "cell_type": "code",
   "execution_count": 76,
   "metadata": {},
   "outputs": [],
   "source": [
    "vd.clear()"
   ]
  },
  {
   "cell_type": "code",
   "execution_count": 79,
   "metadata": {},
   "outputs": [
    {
     "data": {
      "text/plain": [
       "['겨울왕국 2',\n",
       " '나를 찾아줘',\n",
       " '블랙머니',\n",
       " '신의 한 수: 귀수편',\n",
       " '크롤',\n",
       " '아이리시맨',\n",
       " '82년생 김지영',\n",
       " '허슬러',\n",
       " '얼굴없는 보스',\n",
       " '윤희에게',\n",
       " '터미네이터: 다크 페이트',\n",
       " '엔젤 해즈 폴른',\n",
       " '백두산',\n",
       " '대통령의 7시간',\n",
       " '시동',\n",
       " '아내를 죽였다',\n",
       " '러브 앳',\n",
       " '결혼 이야기',\n",
       " '원스 어폰 어 타임... 인 할리우드',\n",
       " '날씨의 아이',\n",
       " '카센타',\n",
       " '람보 : 라스트 워',\n",
       " '신문기자',\n",
       " '조커',\n",
       " '오피셜 시크릿',\n",
       " '벌새',\n",
       " '첫잔처럼',\n",
       " '포드 V 페라리',\n",
       " '좀비랜드: 더블 탭',\n",
       " '라스트 크리스마스',\n",
       " '제미니 맨',\n",
       " '헤로니모',\n",
       " '감쪽같은 그녀',\n",
       " '겨울왕국',\n",
       " '가장 보통의 연애',\n",
       " '나이브스 아웃',\n",
       " '어제 일은 모두 괜찮아',\n",
       " '기생충',\n",
       " '삼촌',\n",
       " '천문: 하늘에 묻는다',\n",
       " '너의 여자친구',\n",
       " '레디 오어 낫',\n",
       " '위!',\n",
       " '28세 미성년',\n",
       " '행동하는 양심 김대중',\n",
       " '쥬만지: 넥스트 레벨',\n",
       " '퍼펙트맨',\n",
       " '어메이징 그레이스',\n",
       " '삽질',\n",
       " '집 이야기']"
      ]
     },
     "execution_count": 79,
     "metadata": {},
     "output_type": "execute_result"
    }
   ],
   "source": [
    "vd"
   ]
  },
  {
   "cell_type": "code",
   "execution_count": 73,
   "metadata": {},
   "outputs": [],
   "source": [
    "# 초성 리스트. 00 ~ 18\n",
    "CHOSUNG_LIST = ['ㄱ', 'ㄲ', 'ㄴ', 'ㄷ', 'ㄸ', 'ㄹ', 'ㅁ', 'ㅂ', 'ㅃ', 'ㅅ', 'ㅆ', 'ㅇ', 'ㅈ', 'ㅉ', 'ㅊ', 'ㅋ', 'ㅌ', 'ㅍ', 'ㅎ']\n",
    "# 중성 리스트. 00 ~ 20\n",
    "JUNGSUNG_LIST = ['ㅏ', 'ㅐ', 'ㅑ', 'ㅒ', 'ㅓ', 'ㅔ', 'ㅕ', 'ㅖ', 'ㅗ', 'ㅘ', 'ㅙ', 'ㅚ', 'ㅛ', 'ㅜ', 'ㅝ', 'ㅞ', 'ㅟ', 'ㅠ', 'ㅡ', 'ㅢ', 'ㅣ']\n",
    "# 종성 리스트. 00 ~ 27 + 1(1개 없음)\n",
    "JONGSUNG_LIST = [' ', 'ㄱ', 'ㄲ', 'ㄳ', 'ㄴ', 'ㄵ', 'ㄶ', 'ㄷ', 'ㄹ', 'ㄺ', 'ㄻ', 'ㄼ', 'ㄽ', 'ㄾ', 'ㄿ', 'ㅀ', 'ㅁ', 'ㅂ', 'ㅄ', 'ㅅ', 'ㅆ', 'ㅇ', 'ㅈ', 'ㅊ', 'ㅋ', 'ㅌ', 'ㅍ', 'ㅎ']"
   ]
  },
  {
   "cell_type": "code",
   "execution_count": 15,
   "metadata": {},
   "outputs": [],
   "source": [
    "import re\n",
    "import sys\n",
    "\"\"\"\n",
    "    초성 중성 종성 분리 하기\n",
    "\t유니코드 한글은 0xAC00 으로부터\n",
    "\t초성 19개, 중성21개, 종성28개로 이루어지고\n",
    "\t이들을 조합한 11,172개의 문자를 갖는다.\n",
    "\t한글코드의 값 = ((초성 * 21) + 중성) * 28 + 종성 + 0xAC00\n",
    "\t(0xAC00은 'ㄱ'의 코드값)\n",
    "\t따라서 다음과 같은 계산 식이 구해진다.\n",
    "\t유니코드 한글 문자 코드 값이 X일 때,\n",
    "\t초성 = ((X - 0xAC00) / 28) / 21\n",
    "\t중성 = ((X - 0xAC00) / 28) % 21\n",
    "\t종성 = (X - 0xAC00) % 28\n",
    "\t이 때 초성, 중성, 종성의 값은 각 소리 글자의 코드값이 아니라\n",
    "\t이들이 각각 몇 번째 문자인가를 나타내기 때문에 다음과 같이 다시 처리한다.\n",
    "\t초성문자코드 = 초성 + 0x1100 //('ㄱ')\n",
    "\t중성문자코드 = 중성 + 0x1161 // ('ㅏ')\n",
    "\t종성문자코드 = 종성 + 0x11A8 - 1 // (종성이 없는 경우가 있으므로 1을 뺌)\n",
    "\"\"\"\n",
    "# 유니코드 한글 시작 : 44032, 끝 : 55199\n",
    "BASE_CODE, CHOSUNG, JUNGSUNG = 44032, 588, 28\n",
    "\n",
    "# 초성 리스트. 00 ~ 18\n",
    "CHOSUNG_LIST = ['ㄱ', 'ㄲ', 'ㄴ', 'ㄷ', 'ㄸ', 'ㄹ', 'ㅁ', 'ㅂ', 'ㅃ', 'ㅅ', 'ㅆ', 'ㅇ', 'ㅈ', 'ㅉ', 'ㅊ', 'ㅋ', 'ㅌ', 'ㅍ', 'ㅎ']\n",
    "\n",
    "# 중성 리스트. 00 ~ 20\n",
    "JUNGSUNG_LIST = ['ㅏ', 'ㅐ', 'ㅑ', 'ㅒ', 'ㅓ', 'ㅔ', 'ㅕ', 'ㅖ', 'ㅗ', 'ㅘ', 'ㅙ', 'ㅚ', 'ㅛ', 'ㅜ', 'ㅝ', 'ㅞ', 'ㅟ', 'ㅠ', 'ㅡ', 'ㅢ', 'ㅣ']\n",
    "\n",
    "# 종성 리스트. 00 ~ 27 + 1(1개 없음)\n",
    "JONGSUNG_LIST = [' ', 'ㄱ', 'ㄲ', 'ㄳ', 'ㄴ', 'ㄵ', 'ㄶ', 'ㄷ', 'ㄹ', 'ㄺ', 'ㄻ', 'ㄼ', 'ㄽ', 'ㄾ', 'ㄿ', 'ㅀ', 'ㅁ', 'ㅂ', 'ㅄ', 'ㅅ', 'ㅆ', 'ㅇ', 'ㅈ', 'ㅊ', 'ㅋ', 'ㅌ', 'ㅍ', 'ㅎ']\n",
    "\n",
    "result_ja = []\n",
    "result_mo = []\n",
    "\n",
    "# test_keyword = input(\"input your text:\")\n",
    "# convert(test_keyword)\n",
    "\n",
    "def convert(vd):\n",
    "#     split_keyword_list = list(test_keyword)\n",
    "    split_keyword_list = list(vd)\n",
    "    #print(split_keyword_list)\n",
    "\n",
    "    result = list()\n",
    "    for keyword in split_keyword_list:\n",
    "        # 한글 여부 check 후 분리\n",
    "        if re.match('.*[ㄱ-ㅎㅏ-ㅣ가-힣]+.*', keyword) is not None:\n",
    "            char_code = ord(keyword) - BASE_CODE\n",
    "            char1 = int(char_code / CHOSUNG)\n",
    "            result.append(CHOSUNG_LIST[char1])\n",
    "            result_ja.append(CHOSUNG_LIST[char1])\n",
    "            #print('초성 : {}'.format(CHOSUNG_LIST[char1]))\n",
    "            char2 = int((char_code - (CHOSUNG * char1)) / JUNGSUNG)\n",
    "            result.append(JUNGSUNG_LIST[char2])\n",
    "            result_mo.append(JUNGSUNG_LIST[char2])\n",
    "            #print('중성 : {}'.format(JUNGSUNG_LIST[char2]))\n",
    "            char3 = int((char_code - (CHOSUNG * char1) - (JUNGSUNG * char2)))\n",
    "            if char3==0:\n",
    "                result.append('#')\n",
    "            else:\n",
    "                result.append(JONGSUNG_LIST[char3])\n",
    "                result_ja.append(JONGSUNG_LIST[char3])\n",
    "            #print('종성 : {}'.format(JONGSUNG_LIST[char3]))\n",
    "        else:\n",
    "            result.append(keyword)\n",
    "    # result\n",
    "#     print(list(set(result_ja)))\n",
    "#     print(list(set(result_mo)))\n",
    "\n"
   ]
  },
  {
   "cell_type": "code",
   "execution_count": 16,
   "metadata": {},
   "outputs": [],
   "source": [
    "for i in range(0, len(vd), 1):\n",
    "    convert(vd[i])"
   ]
  },
  {
   "cell_type": "code",
   "execution_count": 18,
   "metadata": {},
   "outputs": [],
   "source": [
    "result_ja_list = list(set(result_ja))\n"
   ]
  },
  {
   "cell_type": "code",
   "execution_count": 19,
   "metadata": {},
   "outputs": [],
   "source": [
    "result_mo_list = list(set(result_mo))"
   ]
  },
  {
   "cell_type": "code",
   "execution_count": 20,
   "metadata": {},
   "outputs": [
    {
     "data": {
      "text/plain": [
       "['ㅋ',\n",
       " 'ㅊ',\n",
       " 'ㅇ',\n",
       " 'ㅁ',\n",
       " 'ㄷ',\n",
       " 'ㄴ',\n",
       " 'ㄹ',\n",
       " 'ㅅ',\n",
       " 'ㅄ',\n",
       " 'ㅆ',\n",
       " 'ㄶ',\n",
       " 'ㅍ',\n",
       " 'ㅌ',\n",
       " 'ㅉ',\n",
       " 'ㅈ',\n",
       " 'ㄱ',\n",
       " 'ㅂ',\n",
       " 'ㅎ']"
      ]
     },
     "execution_count": 20,
     "metadata": {},
     "output_type": "execute_result"
    }
   ],
   "source": [
    "result_ja_list"
   ]
  },
  {
   "cell_type": "code",
   "execution_count": 21,
   "metadata": {},
   "outputs": [
    {
     "data": {
      "text/plain": [
       "['ㅓ',\n",
       " 'ㅟ',\n",
       " 'ㅝ',\n",
       " 'ㅑ',\n",
       " 'ㅡ',\n",
       " 'ㅠ',\n",
       " 'ㅙ',\n",
       " 'ㅘ',\n",
       " 'ㅣ',\n",
       " 'ㅐ',\n",
       " 'ㅔ',\n",
       " 'ㅗ',\n",
       " 'ㅕ',\n",
       " 'ㅢ',\n",
       " 'ㅏ',\n",
       " 'ㅜ']"
      ]
     },
     "execution_count": 21,
     "metadata": {},
     "output_type": "execute_result"
    }
   ],
   "source": [
    "result_mo_list"
   ]
  },
  {
   "cell_type": "code",
   "execution_count": 22,
   "metadata": {},
   "outputs": [],
   "source": [
    "pa = pd.DataFrame(result_ja_list)"
   ]
  },
  {
   "cell_type": "code",
   "execution_count": 23,
   "metadata": {},
   "outputs": [],
   "source": [
    "pb = pd.DataFrame(result_mo_list)"
   ]
  },
  {
   "cell_type": "code",
   "execution_count": 24,
   "metadata": {},
   "outputs": [],
   "source": [
    "pa.to_csv(\"자음\")"
   ]
  },
  {
   "cell_type": "code",
   "execution_count": 25,
   "metadata": {},
   "outputs": [],
   "source": [
    "pb.to_csv(\"모음\")"
   ]
  },
  {
   "cell_type": "code",
   "execution_count": 26,
   "metadata": {},
   "outputs": [],
   "source": [
    "file = open(\"자음.txt\", 'wb')"
   ]
  },
  {
   "cell_type": "code",
   "execution_count": 38,
   "metadata": {},
   "outputs": [],
   "source": [
    "with open(\"consonants.txt\", 'w', encoding = \"utf-8\") as fileobj:\n",
    "    fileobj.writelines(result_ja_list)"
   ]
  },
  {
   "cell_type": "code",
   "execution_count": 39,
   "metadata": {},
   "outputs": [],
   "source": [
    "with open(\"vowels.txt\", 'w', encoding = \"utf-8\") as fileobj:\n",
    "    fileobj.writelines(result_mo_list)"
   ]
  },
  {
   "cell_type": "code",
   "execution_count": 46,
   "metadata": {},
   "outputs": [
    {
     "ename": "TypeError",
     "evalue": "Empty 'DataFrame': no numeric data to plot",
     "output_type": "error",
     "traceback": [
      "\u001b[1;31m---------------------------------------------------------------------------\u001b[0m",
      "\u001b[1;31mTypeError\u001b[0m                                 Traceback (most recent call last)",
      "\u001b[1;32m<ipython-input-46-6d378a260d8d>\u001b[0m in \u001b[0;36m<module>\u001b[1;34m\u001b[0m\n\u001b[0;32m     23\u001b[0m \u001b[0mrc\u001b[0m\u001b[1;33m(\u001b[0m\u001b[1;34m'font'\u001b[0m\u001b[1;33m,\u001b[0m \u001b[0mfamily\u001b[0m\u001b[1;33m=\u001b[0m\u001b[0mfont_name\u001b[0m\u001b[1;33m)\u001b[0m\u001b[1;33m\u001b[0m\u001b[1;33m\u001b[0m\u001b[0m\n\u001b[0;32m     24\u001b[0m \u001b[0mdfdata\u001b[0m\u001b[1;33m=\u001b[0m\u001b[0mpd\u001b[0m\u001b[1;33m.\u001b[0m\u001b[0mDataFrame\u001b[0m\u001b[1;33m(\u001b[0m\u001b[0mwordInfo\u001b[0m\u001b[1;33m,\u001b[0m \u001b[0mindex\u001b[0m\u001b[1;33m=\u001b[0m\u001b[1;33m[\u001b[0m\u001b[1;36m0\u001b[0m\u001b[1;33m]\u001b[0m\u001b[1;33m)\u001b[0m\u001b[1;33m\u001b[0m\u001b[1;33m\u001b[0m\u001b[0m\n\u001b[1;32m---> 25\u001b[1;33m \u001b[0mdfdata\u001b[0m\u001b[1;33m.\u001b[0m\u001b[0mplot\u001b[0m\u001b[1;33m(\u001b[0m\u001b[0mkind\u001b[0m\u001b[1;33m=\u001b[0m\u001b[1;34m'bar'\u001b[0m\u001b[1;33m)\u001b[0m\u001b[1;33m\u001b[0m\u001b[1;33m\u001b[0m\u001b[0m\n\u001b[0m\u001b[0;32m     26\u001b[0m \u001b[0mplt\u001b[0m\u001b[1;33m.\u001b[0m\u001b[0mxlabel\u001b[0m\u001b[1;33m(\u001b[0m\u001b[1;34m'주요 단어'\u001b[0m\u001b[1;33m)\u001b[0m\u001b[1;33m\u001b[0m\u001b[1;33m\u001b[0m\u001b[0m\n\u001b[0;32m     27\u001b[0m \u001b[0mplt\u001b[0m\u001b[1;33m.\u001b[0m\u001b[0mylabel\u001b[0m\u001b[1;33m(\u001b[0m\u001b[1;34m'빈도수'\u001b[0m\u001b[1;33m)\u001b[0m\u001b[1;33m\u001b[0m\u001b[1;33m\u001b[0m\u001b[0m\n",
      "\u001b[1;32m~\\Anaconda3\\lib\\site-packages\\pandas\\plotting\\_core.py\u001b[0m in \u001b[0;36m__call__\u001b[1;34m(self, x, y, kind, ax, subplots, sharex, sharey, layout, figsize, use_index, title, grid, legend, style, logx, logy, loglog, xticks, yticks, xlim, ylim, rot, fontsize, colormap, table, yerr, xerr, secondary_y, sort_columns, **kwds)\u001b[0m\n\u001b[0;32m   2940\u001b[0m                           \u001b[0mfontsize\u001b[0m\u001b[1;33m=\u001b[0m\u001b[0mfontsize\u001b[0m\u001b[1;33m,\u001b[0m \u001b[0mcolormap\u001b[0m\u001b[1;33m=\u001b[0m\u001b[0mcolormap\u001b[0m\u001b[1;33m,\u001b[0m \u001b[0mtable\u001b[0m\u001b[1;33m=\u001b[0m\u001b[0mtable\u001b[0m\u001b[1;33m,\u001b[0m\u001b[1;33m\u001b[0m\u001b[1;33m\u001b[0m\u001b[0m\n\u001b[0;32m   2941\u001b[0m                           \u001b[0myerr\u001b[0m\u001b[1;33m=\u001b[0m\u001b[0myerr\u001b[0m\u001b[1;33m,\u001b[0m \u001b[0mxerr\u001b[0m\u001b[1;33m=\u001b[0m\u001b[0mxerr\u001b[0m\u001b[1;33m,\u001b[0m \u001b[0msecondary_y\u001b[0m\u001b[1;33m=\u001b[0m\u001b[0msecondary_y\u001b[0m\u001b[1;33m,\u001b[0m\u001b[1;33m\u001b[0m\u001b[1;33m\u001b[0m\u001b[0m\n\u001b[1;32m-> 2942\u001b[1;33m                           sort_columns=sort_columns, **kwds)\n\u001b[0m\u001b[0;32m   2943\u001b[0m     \u001b[0m__call__\u001b[0m\u001b[1;33m.\u001b[0m\u001b[0m__doc__\u001b[0m \u001b[1;33m=\u001b[0m \u001b[0mplot_frame\u001b[0m\u001b[1;33m.\u001b[0m\u001b[0m__doc__\u001b[0m\u001b[1;33m\u001b[0m\u001b[1;33m\u001b[0m\u001b[0m\n\u001b[0;32m   2944\u001b[0m \u001b[1;33m\u001b[0m\u001b[0m\n",
      "\u001b[1;32m~\\Anaconda3\\lib\\site-packages\\pandas\\plotting\\_core.py\u001b[0m in \u001b[0;36mplot_frame\u001b[1;34m(data, x, y, kind, ax, subplots, sharex, sharey, layout, figsize, use_index, title, grid, legend, style, logx, logy, loglog, xticks, yticks, xlim, ylim, rot, fontsize, colormap, table, yerr, xerr, secondary_y, sort_columns, **kwds)\u001b[0m\n\u001b[0;32m   1971\u001b[0m                  \u001b[0myerr\u001b[0m\u001b[1;33m=\u001b[0m\u001b[0myerr\u001b[0m\u001b[1;33m,\u001b[0m \u001b[0mxerr\u001b[0m\u001b[1;33m=\u001b[0m\u001b[0mxerr\u001b[0m\u001b[1;33m,\u001b[0m\u001b[1;33m\u001b[0m\u001b[1;33m\u001b[0m\u001b[0m\n\u001b[0;32m   1972\u001b[0m                  \u001b[0msecondary_y\u001b[0m\u001b[1;33m=\u001b[0m\u001b[0msecondary_y\u001b[0m\u001b[1;33m,\u001b[0m \u001b[0msort_columns\u001b[0m\u001b[1;33m=\u001b[0m\u001b[0msort_columns\u001b[0m\u001b[1;33m,\u001b[0m\u001b[1;33m\u001b[0m\u001b[1;33m\u001b[0m\u001b[0m\n\u001b[1;32m-> 1973\u001b[1;33m                  **kwds)\n\u001b[0m\u001b[0;32m   1974\u001b[0m \u001b[1;33m\u001b[0m\u001b[0m\n\u001b[0;32m   1975\u001b[0m \u001b[1;33m\u001b[0m\u001b[0m\n",
      "\u001b[1;32m~\\Anaconda3\\lib\\site-packages\\pandas\\plotting\\_core.py\u001b[0m in \u001b[0;36m_plot\u001b[1;34m(data, x, y, subplots, ax, kind, **kwds)\u001b[0m\n\u001b[0;32m   1799\u001b[0m         \u001b[0mplot_obj\u001b[0m \u001b[1;33m=\u001b[0m \u001b[0mklass\u001b[0m\u001b[1;33m(\u001b[0m\u001b[0mdata\u001b[0m\u001b[1;33m,\u001b[0m \u001b[0msubplots\u001b[0m\u001b[1;33m=\u001b[0m\u001b[0msubplots\u001b[0m\u001b[1;33m,\u001b[0m \u001b[0max\u001b[0m\u001b[1;33m=\u001b[0m\u001b[0max\u001b[0m\u001b[1;33m,\u001b[0m \u001b[0mkind\u001b[0m\u001b[1;33m=\u001b[0m\u001b[0mkind\u001b[0m\u001b[1;33m,\u001b[0m \u001b[1;33m**\u001b[0m\u001b[0mkwds\u001b[0m\u001b[1;33m)\u001b[0m\u001b[1;33m\u001b[0m\u001b[1;33m\u001b[0m\u001b[0m\n\u001b[0;32m   1800\u001b[0m \u001b[1;33m\u001b[0m\u001b[0m\n\u001b[1;32m-> 1801\u001b[1;33m     \u001b[0mplot_obj\u001b[0m\u001b[1;33m.\u001b[0m\u001b[0mgenerate\u001b[0m\u001b[1;33m(\u001b[0m\u001b[1;33m)\u001b[0m\u001b[1;33m\u001b[0m\u001b[1;33m\u001b[0m\u001b[0m\n\u001b[0m\u001b[0;32m   1802\u001b[0m     \u001b[0mplot_obj\u001b[0m\u001b[1;33m.\u001b[0m\u001b[0mdraw\u001b[0m\u001b[1;33m(\u001b[0m\u001b[1;33m)\u001b[0m\u001b[1;33m\u001b[0m\u001b[1;33m\u001b[0m\u001b[0m\n\u001b[0;32m   1803\u001b[0m     \u001b[1;32mreturn\u001b[0m \u001b[0mplot_obj\u001b[0m\u001b[1;33m.\u001b[0m\u001b[0mresult\u001b[0m\u001b[1;33m\u001b[0m\u001b[1;33m\u001b[0m\u001b[0m\n",
      "\u001b[1;32m~\\Anaconda3\\lib\\site-packages\\pandas\\plotting\\_core.py\u001b[0m in \u001b[0;36mgenerate\u001b[1;34m(self)\u001b[0m\n\u001b[0;32m    247\u001b[0m     \u001b[1;32mdef\u001b[0m \u001b[0mgenerate\u001b[0m\u001b[1;33m(\u001b[0m\u001b[0mself\u001b[0m\u001b[1;33m)\u001b[0m\u001b[1;33m:\u001b[0m\u001b[1;33m\u001b[0m\u001b[1;33m\u001b[0m\u001b[0m\n\u001b[0;32m    248\u001b[0m         \u001b[0mself\u001b[0m\u001b[1;33m.\u001b[0m\u001b[0m_args_adjust\u001b[0m\u001b[1;33m(\u001b[0m\u001b[1;33m)\u001b[0m\u001b[1;33m\u001b[0m\u001b[1;33m\u001b[0m\u001b[0m\n\u001b[1;32m--> 249\u001b[1;33m         \u001b[0mself\u001b[0m\u001b[1;33m.\u001b[0m\u001b[0m_compute_plot_data\u001b[0m\u001b[1;33m(\u001b[0m\u001b[1;33m)\u001b[0m\u001b[1;33m\u001b[0m\u001b[1;33m\u001b[0m\u001b[0m\n\u001b[0m\u001b[0;32m    250\u001b[0m         \u001b[0mself\u001b[0m\u001b[1;33m.\u001b[0m\u001b[0m_setup_subplots\u001b[0m\u001b[1;33m(\u001b[0m\u001b[1;33m)\u001b[0m\u001b[1;33m\u001b[0m\u001b[1;33m\u001b[0m\u001b[0m\n\u001b[0;32m    251\u001b[0m         \u001b[0mself\u001b[0m\u001b[1;33m.\u001b[0m\u001b[0m_make_plot\u001b[0m\u001b[1;33m(\u001b[0m\u001b[1;33m)\u001b[0m\u001b[1;33m\u001b[0m\u001b[1;33m\u001b[0m\u001b[0m\n",
      "\u001b[1;32m~\\Anaconda3\\lib\\site-packages\\pandas\\plotting\\_core.py\u001b[0m in \u001b[0;36m_compute_plot_data\u001b[1;34m(self)\u001b[0m\n\u001b[0;32m    365\u001b[0m         \u001b[1;32mif\u001b[0m \u001b[0mis_empty\u001b[0m\u001b[1;33m:\u001b[0m\u001b[1;33m\u001b[0m\u001b[1;33m\u001b[0m\u001b[0m\n\u001b[0;32m    366\u001b[0m             raise TypeError('Empty {0!r}: no numeric data to '\n\u001b[1;32m--> 367\u001b[1;33m                             'plot'.format(numeric_data.__class__.__name__))\n\u001b[0m\u001b[0;32m    368\u001b[0m \u001b[1;33m\u001b[0m\u001b[0m\n\u001b[0;32m    369\u001b[0m         \u001b[0mself\u001b[0m\u001b[1;33m.\u001b[0m\u001b[0mdata\u001b[0m \u001b[1;33m=\u001b[0m \u001b[0mnumeric_data\u001b[0m\u001b[1;33m\u001b[0m\u001b[1;33m\u001b[0m\u001b[0m\n",
      "\u001b[1;31mTypeError\u001b[0m: Empty 'DataFrame': no numeric data to plot"
     ]
    }
   ],
   "source": [
    "import random \n",
    "import webbrowser \n",
    "from konlpy.tag import Twitter \n",
    "import pytagcloud # requires Korean font support \n",
    "import pandas as pd \n",
    "import matplotlib.pyplot as plt \n",
    "from matplotlib import font_manager, rc\n",
    "bill_num = 'vowels'#파일명영어로\n",
    "fname='%s.txt'%bill_num\n",
    "filename=bill_num+'6.jpg'\n",
    "with open(fname, \"r\", encoding=\"utf-8\") as fobj:#텍스트파일읽어오기   \n",
    "    text=fobj.read()         \n",
    "h = Twitter() \n",
    "nouns = h.nouns(text) \n",
    "count = Counter(nouns)\n",
    "wordInfo={}\n",
    "for tags, counts in count.most_common(50):  \n",
    "    if(len(str(tags))>1):      \n",
    "        wordInfo[tags]=counts      \n",
    "        print(\"%s:%d\"%(tags, counts))\n",
    "font_location='c:/windows/fonts/malgun.ttf'\n",
    "font_name=font_manager.FontProperties(fname=font_location).get_name()\n",
    "rc('font', family=font_name) \n",
    "dfdata=pd.DataFrame(wordInfo, index=[0]) \n",
    "dfdata.plot(kind='bar') \n",
    "plt.xlabel('주요 단어')\n",
    "plt.ylabel('빈도수') \n",
    "plt.show() \n",
    "wordInfo2={'빈도수':wordInfo}\n",
    "dfdata2=pd.DataFrame(wordInfo2) \n",
    "dfdata2.plot(kind='bar')\n",
    "plt.xlabel('주요 단어') \n",
    "plt.ylabel('빈도수')\n",
    "plt.show() \n",
    "taglist=pytagcloud.make_tags(dict(wordInfo).items(), maxsize=80)\n",
    "pytagcloud.create_tag_image(taglist, filename, fontname='korean', size=(640, 480), rectangular=True) #webbrowser.open(filename)"
   ]
  },
  {
   "cell_type": "code",
   "execution_count": 65,
   "metadata": {},
   "outputs": [
    {
     "name": "stdout",
     "output_type": "stream",
     "text": [
      "ㅋㅊㅇㅁㄷㄴㄹㅅㅄㅆㄶㅍㅌㅉㅈㄱㅂㅎ:1\n"
     ]
    },
    {
     "data": {
      "image/png": "[encoded data removed]",
      "text/plain": [
       "<Figure size 432x288 with 1 Axes>"
      ]
     },
     "metadata": {
      "needs_background": "light"
     },
     "output_type": "display_data"
    },
    {
     "data": {
      "image/png": "[encoded data removed]",
      "text/plain": [
       "<Figure size 432x288 with 1 Axes>"
      ]
     },
     "metadata": {
      "needs_background": "light"
     },
     "output_type": "display_data"
    },
    {
     "data": {
      "text/plain": [
       "True"
      ]
     },
     "execution_count": 65,
     "metadata": {},
     "output_type": "execute_result"
    }
   ],
   "source": [
    "import random \n",
    "import webbrowser \n",
    "from konlpy.tag import Twitter \n",
    "import pytagcloud # requires Korean font support \n",
    "import pandas as pd \n",
    "import matplotlib.pyplot as plt \n",
    "from matplotlib import font_manager, rc\n",
    "bill_num = 'consonants'#파일명영어로\n",
    "fname='%s.txt'%bill_num\n",
    "filename=bill_num+'6.jpg'\n",
    "with open(fname, \"r\", encoding=\"utf-8\") as fobj:#텍스트파일읽어오기   \n",
    "    text=fobj.read()         \n",
    "h = Twitter() \n",
    "nouns = h.morphs(text) \n",
    "count = Counter(nouns)\n",
    "wordInfo={}\n",
    "for tags, counts in count.most_common(50):  \n",
    "    if(len(str(tags))>1):      \n",
    "        wordInfo[tags]=counts      \n",
    "        print(\"%s:%d\"%(tags, counts))\n",
    "font_location='c:/windows/fonts/malgun.ttf'\n",
    "font_name=font_manager.FontProperties(fname=font_location).get_name()\n",
    "rc('font', family=font_name) \n",
    "dfdata=pd.DataFrame(wordInfo, index=[0]) \n",
    "dfdata.plot(kind='bar') \n",
    "plt.xlabel('주요 단어')\n",
    "plt.ylabel('빈도수') \n",
    "plt.show() \n",
    "wordInfo2={'빈도수':wordInfo}\n",
    "dfdata2=pd.DataFrame(wordInfo2) \n",
    "dfdata2.plot(kind='bar')\n",
    "plt.xlabel('주요 단어') \n",
    "plt.ylabel('빈도수')\n",
    "plt.show() \n",
    "taglist=pytagcloud.make_tags(dict(wordInfo).items(), maxsize=80)\n",
    "pytagcloud.create_tag_image(taglist, filename, fontname='korean', size=(640, 480), rectangular=True) \n",
    "webbrowser.open(filename)"
   ]
  },
  {
   "cell_type": "code",
   "execution_count": 69,
   "metadata": {},
   "outputs": [
    {
     "data": {
      "text/plain": [
       "['겨울왕국 2',\n",
       " '나를 찾아줘',\n",
       " '블랙머니',\n",
       " '신의 한 수: 귀수편',\n",
       " '크롤',\n",
       " '아이리시맨',\n",
       " '82년생 김지영',\n",
       " '허슬러',\n",
       " '얼굴없는 보스',\n",
       " '윤희에게',\n",
       " '터미네이터: 다크 페이트',\n",
       " '엔젤 해즈 폴른',\n",
       " '백두산',\n",
       " '대통령의 7시간',\n",
       " '시동',\n",
       " '아내를 죽였다',\n",
       " '러브 앳',\n",
       " '결혼 이야기',\n",
       " '원스 어폰 어 타임... 인 할리우드',\n",
       " '날씨의 아이',\n",
       " '카센타',\n",
       " '람보 : 라스트 워',\n",
       " '신문기자',\n",
       " '조커',\n",
       " '오피셜 시크릿',\n",
       " '벌새',\n",
       " '첫잔처럼',\n",
       " '포드 V 페라리',\n",
       " '좀비랜드: 더블 탭',\n",
       " '라스트 크리스마스',\n",
       " '제미니 맨',\n",
       " '헤로니모',\n",
       " '감쪽같은 그녀',\n",
       " '겨울왕국',\n",
       " '가장 보통의 연애',\n",
       " '나이브스 아웃',\n",
       " '어제 일은 모두 괜찮아',\n",
       " '기생충',\n",
       " '삼촌',\n",
       " '천문: 하늘에 묻는다',\n",
       " '너의 여자친구',\n",
       " '레디 오어 낫',\n",
       " '위!',\n",
       " '28세 미성년',\n",
       " '행동하는 양심 김대중',\n",
       " '쥬만지: 넥스트 레벨',\n",
       " '퍼펙트맨',\n",
       " '어메이징 그레이스',\n",
       " '삽질',\n",
       " '집 이야기']"
      ]
     },
     "execution_count": 69,
     "metadata": {},
     "output_type": "execute_result"
    }
   ],
   "source": [
    "vd"
   ]
  },
  {
   "cell_type": "code",
   "execution_count": 80,
   "metadata": {},
   "outputs": [],
   "source": [
    "with open(\"movie.txt\", 'w', encoding=\"utf-8\") as f:\n",
    "    for item in vd:\n",
    "        f.write(\"%s\\n\" % item)"
   ]
  },
  {
   "cell_type": "code",
   "execution_count": 81,
   "metadata": {},
   "outputs": [
    {
     "name": "stdout",
     "output_type": "stream",
     "text": [
      "겨울왕국:2\n",
      "이야기:2\n",
      "라스트:2\n",
      "나를:1\n",
      "찾아줘:1\n",
      "블랙:1\n",
      "머니:1\n",
      "신의:1\n",
      "크롤:1\n",
      "아이리시:1\n",
      "82년:1\n",
      "김지영:1\n",
      "허슬:1\n",
      "얼굴:1\n",
      "없는:1\n",
      "보스:1\n",
      "윤희:1\n",
      "에게:1\n",
      "터미네이터:1\n",
      "다크:1\n",
      "페이트:1\n",
      "엔젤:1\n",
      "폴른:1\n",
      "백두산:1\n",
      "대통령:1\n",
      "7시간:1\n",
      "시동:1\n",
      "아내:1\n",
      "죽였다:1\n",
      "러브:1\n",
      "결혼:1\n",
      "원스:1\n",
      "어폰:1\n",
      "타임:1\n"
     ]
    },
    {
     "data": {
      "image/png": "[encoded data removed]",
      "text/plain": [
       "<Figure size 432x288 with 1 Axes>"
      ]
     },
     "metadata": {
      "needs_background": "light"
     },
     "output_type": "display_data"
    },
    {
     "data": {
      "image/png": "[encoded data removed]",
      "text/plain": [
       "<Figure size 432x288 with 1 Axes>"
      ]
     },
     "metadata": {
      "needs_background": "light"
     },
     "output_type": "display_data"
    },
    {
     "data": {
      "text/plain": [
       "True"
      ]
     },
     "execution_count": 81,
     "metadata": {},
     "output_type": "execute_result"
    }
   ],
   "source": [
    "import random \n",
    "import webbrowser \n",
    "from konlpy.tag import Twitter \n",
    "import pytagcloud # requires Korean font support \n",
    "import pandas as pd \n",
    "import matplotlib.pyplot as plt \n",
    "from matplotlib import font_manager, rc\n",
    "bill_num = 'movie'#파일명영어로\n",
    "fname='%s.txt'%bill_num\n",
    "filename=bill_num+'6.jpg'\n",
    "with open(fname, \"r\", encoding=\"utf-8\") as fobj:#텍스트파일읽어오기   \n",
    "    text=fobj.read()         \n",
    "h = Twitter() \n",
    "nouns = h.morphs(text) \n",
    "count = Counter(nouns)\n",
    "wordInfo={}\n",
    "for tags, counts in count.most_common(50):  \n",
    "    if(len(str(tags))>1):      \n",
    "        wordInfo[tags]=counts      \n",
    "        print(\"%s:%d\"%(tags, counts))\n",
    "font_location='c:/windows/fonts/malgun.ttf'\n",
    "font_name=font_manager.FontProperties(fname=font_location).get_name()\n",
    "rc('font', family=font_name) \n",
    "dfdata=pd.DataFrame(wordInfo, index=[0]) \n",
    "dfdata.plot(kind='bar') \n",
    "plt.xlabel('주요 단어')\n",
    "plt.ylabel('빈도수') \n",
    "plt.show() \n",
    "wordInfo2={'빈도수':wordInfo}\n",
    "dfdata2=pd.DataFrame(wordInfo2) \n",
    "dfdata2.plot(kind='bar')\n",
    "plt.xlabel('주요 단어') \n",
    "plt.ylabel('빈도수')\n",
    "plt.show() \n",
    "taglist=pytagcloud.make_tags(dict(wordInfo).items(), maxsize=80)\n",
    "pytagcloud.create_tag_image(taglist, filename, fontname='korean', size=(640, 480), rectangular=True) \n",
    "webbrowser.open(filename)"
   ]
  },
  {
   "cell_type": "code",
   "execution_count": null,
   "metadata": {},
   "outputs": [],
   "source": []
  }
 ],
 "metadata": {
  "kernelspec": {
   "display_name": "Python 3",
   "language": "python",
   "name": "python3"
  },
  "language_info": {
   "codemirror_mode": {
    "name": "ipython",
    "version": 3
   },
   "file_extension": ".py",
   "mimetype": "text/x-python",
   "name": "python",
   "nbconvert_exporter": "python",
   "pygments_lexer": "ipython3",
   "version": "3.7.3"
  }
 },
 "nbformat": 4,
 "nbformat_minor": 2
}
